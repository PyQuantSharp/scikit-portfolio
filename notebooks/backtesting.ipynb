{
 "cells": [
  {
   "cell_type": "code",
   "execution_count": 2,
   "id": "4afe61a4-dc84-4e03-bd0f-2aca998680a8",
   "metadata": {},
   "outputs": [],
   "source": [
    "import pandas as pd\n",
    "from skportfolio import *\n",
    "from skportfolio.datasets import *"
   ]
  },
  {
   "cell_type": "code",
   "execution_count": 251,
   "id": "ad94d2c3-15b4-4ca2-8c0a-e32f638db57c",
   "metadata": {},
   "outputs": [],
   "source": [
    "def transaction_costs(\n",
    "    old_portfolio: pd.Series,\n",
    "    new_portfolio: pd.Series,\n",
    "    buy_costs: float = 0.01,  # buying 1 share costs you 1% of that share\n",
    "    sell_costs: float = 0.01,  # selling 1 share costs you 1% of that share\n",
    "):\n",
    "    \"\"\"\n",
    "    Calculates the incurred transaction costs for transfering between a portfolio\n",
    "    with old_portfolios [$] and new_portfolio [$].\n",
    "\n",
    "    Parameters\n",
    "    ----------\n",
    "    old_portfolio: pd.Series\n",
    "    new_portfolio: pd.Series\n",
    "    buy_costs: float\n",
    "    sell_costs: float\n",
    "\n",
    "    Returns\n",
    "    -------\n",
    "    Transaction costs\n",
    "    \"\"\"\n",
    "    capital_allocation_difference = new_portfolio - old_portfolio\n",
    "    capital_to_buy = (\n",
    "        (capital_allocation_difference * (capital_allocation_difference > 0))\n",
    "        .abs()\n",
    "        .sum()\n",
    "    )\n",
    "    capital_to_sell = (\n",
    "        (capital_allocation_difference * (capital_allocation_difference < 0))\n",
    "        .abs()\n",
    "        .sum()\n",
    "    )\n",
    "    return capital_to_buy * buy_costs + capital_to_sell * sell_costs"
   ]
  },
  {
   "cell_type": "code",
   "execution_count": 3,
   "id": "24964da1-acb3-4147-a74f-c4a4f788e32b",
   "metadata": {},
   "outputs": [],
   "source": [
    "prices = load_dataset('tech_stocks')\n",
    "prices.index = pd.to_datetime(prices.index)"
   ]
  },
  {
   "cell_type": "code",
   "execution_count": 4,
   "id": "f4f67356-5ecf-4ace-a71a-f506ad708175",
   "metadata": {},
   "outputs": [],
   "source": [
    "triggers = pd.date_range(\n",
    "    start = prices.index.min(),\n",
    "    end = prices.index.max(),\n",
    "    freq = \"M\"\n",
    ")"
   ]
  },
  {
   "cell_type": "code",
   "execution_count": 6,
   "id": "0b0e7631-0443-431c-8652-a8b681d24a3c",
   "metadata": {},
   "outputs": [],
   "source": [
    "freq = \"M\""
   ]
  },
  {
   "cell_type": "code",
   "execution_count": 63,
   "id": "bdf169bf-f346-4f7d-b57e-10c42de2a794",
   "metadata": {},
   "outputs": [
    {
     "data": {
      "text/plain": [
       "array([False, False, False, ..., False, False, False])"
      ]
     },
     "execution_count": 63,
     "metadata": {},
     "output_type": "execute_result"
    }
   ],
   "source": [
    "(prices.index == prices.index.to_period('W-MON'))"
   ]
  },
  {
   "cell_type": "code",
   "execution_count": 72,
   "id": "bbc30d22-12ca-4dfc-8c86-706e4de8e2bd",
   "metadata": {},
   "outputs": [
    {
     "ename": "ValueError",
     "evalue": "Given date string not likely a datetime.",
     "output_type": "error",
     "traceback": [
      "\u001b[0;31m---------------------------------------------------------------------------\u001b[0m",
      "\u001b[0;31mValueError\u001b[0m                                Traceback (most recent call last)",
      "Input \u001b[0;32mIn [72]\u001b[0m, in \u001b[0;36m<cell line: 1>\u001b[0;34m()\u001b[0m\n\u001b[0;32m----> 1\u001b[0m \u001b[43mpd\u001b[49m\u001b[38;5;241;43m.\u001b[39;49m\u001b[43mPeriod\u001b[49m\u001b[43m(\u001b[49m\u001b[38;5;241;43m1\u001b[39;49m\u001b[43m,\u001b[49m\u001b[43mfreq\u001b[49m\u001b[38;5;241;43m=\u001b[39;49m\u001b[38;5;124;43m'\u001b[39;49m\u001b[38;5;124;43mM\u001b[39;49m\u001b[38;5;124;43m'\u001b[39;49m\u001b[43m)\u001b[49m\n",
      "File \u001b[0;32m~/opt/anaconda3/envs/skpt310/lib/python3.10/site-packages/pandas-1.3.5-py3.10-macosx-10.9-x86_64.egg/pandas/_libs/tslibs/period.pyx:2475\u001b[0m, in \u001b[0;36mpandas._libs.tslibs.period.Period.__new__\u001b[0;34m()\u001b[0m\n",
      "File \u001b[0;32m~/opt/anaconda3/envs/skpt310/lib/python3.10/site-packages/pandas-1.3.5-py3.10-macosx-10.9-x86_64.egg/pandas/_libs/tslibs/parsing.pyx:297\u001b[0m, in \u001b[0;36mpandas._libs.tslibs.parsing.parse_time_string\u001b[0;34m()\u001b[0m\n",
      "File \u001b[0;32m~/opt/anaconda3/envs/skpt310/lib/python3.10/site-packages/pandas-1.3.5-py3.10-macosx-10.9-x86_64.egg/pandas/_libs/tslibs/parsing.pyx:324\u001b[0m, in \u001b[0;36mpandas._libs.tslibs.parsing.parse_datetime_string_with_reso\u001b[0;34m()\u001b[0m\n",
      "\u001b[0;31mValueError\u001b[0m: Given date string not likely a datetime."
     ]
    }
   ],
   "source": [
    "pd.Period(1,freq='M')"
   ]
  },
  {
   "cell_type": "code",
   "execution_count": 75,
   "id": "3bbff88f-5f2e-4ab6-9391-d47f3207856d",
   "metadata": {},
   "outputs": [
    {
     "ename": "TypeError",
     "evalue": "argument of type 'Period' is not iterable",
     "output_type": "error",
     "traceback": [
      "\u001b[0;31m---------------------------------------------------------------------------\u001b[0m",
      "\u001b[0;31mTypeError\u001b[0m                                 Traceback (most recent call last)",
      "Input \u001b[0;32mIn [75]\u001b[0m, in \u001b[0;36m<cell line: 2>\u001b[0;34m()\u001b[0m\n\u001b[1;32m      1\u001b[0m x\u001b[38;5;241m=\u001b[39mpd\u001b[38;5;241m.\u001b[39mDatetimeIndex([\u001b[38;5;124m'\u001b[39m\u001b[38;5;124m2020-01-10\u001b[39m\u001b[38;5;124m'\u001b[39m])\n\u001b[0;32m----> 2\u001b[0m \u001b[43mx\u001b[49m\u001b[43m \u001b[49m\u001b[38;5;129;43;01min\u001b[39;49;00m\u001b[43m \u001b[49m\u001b[43mpd\u001b[49m\u001b[38;5;241;43m.\u001b[39;49m\u001b[43mPeriod\u001b[49m\u001b[43m(\u001b[49m\u001b[43mvalue\u001b[49m\u001b[38;5;241;43m=\u001b[39;49m\u001b[43mx\u001b[49m\u001b[43m[\u001b[49m\u001b[38;5;241;43m0\u001b[39;49m\u001b[43m]\u001b[49m\u001b[43m,\u001b[49m\u001b[43m \u001b[49m\u001b[43mfreq\u001b[49m\u001b[38;5;241;43m=\u001b[39;49m\u001b[38;5;124;43m'\u001b[39;49m\u001b[38;5;124;43mM\u001b[39;49m\u001b[38;5;124;43m'\u001b[39;49m\u001b[43m)\u001b[49m\n",
      "\u001b[0;31mTypeError\u001b[0m: argument of type 'Period' is not iterable"
     ]
    }
   ],
   "source": [
    "x=pd.DatetimeIndex(['2020-01-10'])\n",
    "x in pd.Period(value=x[0], freq='M')"
   ]
  },
  {
   "cell_type": "code",
   "execution_count": 91,
   "id": "81f5d356-5f96-430e-90bf-2f69aa83363a",
   "metadata": {},
   "outputs": [],
   "source": [
    "from IPython.display import display"
   ]
  },
  {
   "cell_type": "code",
   "execution_count": 238,
   "id": "ebaa8641-2ab0-4051-8e03-6d24a1ab7a8b",
   "metadata": {},
   "outputs": [],
   "source": [
    "# Here we should implement a backtester that takes one or more portfolio estimator objects,\n",
    "# possibly a rebalancing policy, transaction costs\n",
    "from typing import Union, Tuple, TypeVar, Sequence\n",
    "import pandas as pd\n",
    "from sklearn.base import BaseEstimator, MetaEstimatorMixin\n",
    "from skportfolio import PortfolioEstimator\n",
    "\n",
    "\n",
    "class Strategy(BaseEstimator, MetaEstimatorMixin):\n",
    "    def __init__(\n",
    "        self,\n",
    "        initial_weights: pd.Series,\n",
    "        initial_portfolio_value: float,\n",
    "        estimator: PortfolioEstimator,\n",
    "        rebalance_frequency: Union[int, str],\n",
    "        lookback_periods: Union[int, pd.offsets.BaseOffset],\n",
    "        turnover: pd.DatetimeIndex,\n",
    "        transaction_costs: Union[float, Tuple[float, float]],\n",
    "    ) -> None:\n",
    "        self.initial_weights = initial_weights\n",
    "        self.initial_portfolio_value = initial_portfolio_value\n",
    "        self.estimator = estimator\n",
    "        self.rebalance_frequency = rebalance_frequency\n",
    "        self.lookback_periods = lookback_periods\n",
    "        self.turnover = turnover\n",
    "        self.transaction_costs = transaction_costs\n",
    "        self.portfolio_values = [self.initial_portfolio_value]\n",
    "        self.total_costs = []\n",
    "\n",
    "    def fit(self, X, y, **kwargs):\n",
    "        return self"
   ]
  },
  {
   "cell_type": "code",
   "execution_count": 273,
   "id": "9318afba-d4d4-4bdb-bad5-363ae6deb555",
   "metadata": {},
   "outputs": [],
   "source": [
    "strategy = Strategy(\n",
    "    initial_weights=EquallyWeighted().fit(prices).weights_,\n",
    "    initial_portfolio_value=1000,\n",
    "    estimator=InverseVariance(),\n",
    "    rebalance_frequency='6M',\n",
    "    lookback_periods=60,\n",
    "    turnover=0,\n",
    "    transaction_costs=[0.01, 0.01] # buy and sell costs\n",
    ")"
   ]
  },
  {
   "cell_type": "code",
   "execution_count": 274,
   "id": "9c347481-1c68-4097-a83e-9a6feb639a19",
   "metadata": {},
   "outputs": [],
   "source": [
    "prices = prices.resample('D').agg('first')"
   ]
  },
  {
   "cell_type": "code",
   "execution_count": 283,
   "id": "0f00422f-b3c2-4020-ab35-e54ce19ede2a",
   "metadata": {},
   "outputs": [
    {
     "data": {
      "text/plain": [
       "211.14869651794436"
      ]
     },
     "execution_count": 283,
     "metadata": {},
     "output_type": "execute_result"
    }
   ],
   "source": [
    "prices.iloc[0].dot(EquallyWeighted().fit(prices).weights_)"
   ]
  },
  {
   "cell_type": "code",
   "execution_count": 282,
   "id": "a48d3a3c-29d2-4d1f-a16b-b8840c582b06",
   "metadata": {},
   "outputs": [],
   "source": [
    "class Backtester(BaseEstimator):\n",
    "    def __init__(self, strategy: Union[Strategy, Sequence[Strategy]]):\n",
    "        self.strategy = strategy\n",
    "\n",
    "    def fit(self, X, y=None, **kwargs):\n",
    "        idx_freq = X.index.freq\n",
    "        idx_freqstr = X.index.freqstr\n",
    "\n",
    "        if idx_freqstr is None:\n",
    "            raise IndexError(\"Please resample your data to given frequency\")\n",
    "\n",
    "        triggers = pd.date_range(start=X.index.min(), end=X.index.max(), freq=\"M\")\n",
    "\n",
    "        self.weights_ = pd.DataFrame(index=X.index, columns=X.columns, data=[])\n",
    "\n",
    "        self.weights_.loc[\n",
    "            (X.index.min() + pd.offsets.Day(self.strategy.lookback_periods)), :\n",
    "        ] = self.strategy.initial_weights\n",
    "\n",
    "        old_portfolio = self.strategy.initial_weights\n",
    "        for t in X.index[self.strategy.lookback_periods :]:\n",
    "            df_win = X.loc[(t - (self.strategy.lookback_periods * idx_freq)) : t, :]\n",
    "            new_portfolio = self.strategy.estimator.fit(df_win).weights_\n",
    "            self.weights_.loc[t, :] = new_portfolio\n",
    "            last_prices = df_win.iloc[-1, :]\n",
    "            self.portfolio_values.append(last_prices.dot(new_portfolio))\n",
    "            trigger = np.any(df_win.index.max() == triggers)\n",
    "            if trigger:\n",
    "                trx_cost = transaction_costs(\n",
    "                    old_portfolio=old_portfolio,\n",
    "                    new_portfolio=new_portfolio\n",
    "                )\n",
    "                self.strategy.portfolio_values.append(\n",
    "                    df_win.dot(new_portfolio).iloc[0] - trx_cost\n",
    "                )\n",
    "        return self"
   ]
  },
  {
   "cell_type": "code",
   "execution_count": 280,
   "id": "f3ba1685-c41e-4ac8-806a-75b8c099834f",
   "metadata": {},
   "outputs": [
    {
     "data": {
      "text/html": [
       "<div>\n",
       "<style scoped>\n",
       "    .dataframe tbody tr th:only-of-type {\n",
       "        vertical-align: middle;\n",
       "    }\n",
       "\n",
       "    .dataframe tbody tr th {\n",
       "        vertical-align: top;\n",
       "    }\n",
       "\n",
       "    .dataframe thead th {\n",
       "        text-align: right;\n",
       "    }\n",
       "</style>\n",
       "<table border=\"1\" class=\"dataframe\">\n",
       "  <thead>\n",
       "    <tr style=\"text-align: right;\">\n",
       "      <th></th>\n",
       "      <th>AAPL</th>\n",
       "      <th>MSTR</th>\n",
       "      <th>TSLA</th>\n",
       "      <th>MSFT</th>\n",
       "      <th>AMZN</th>\n",
       "    </tr>\n",
       "    <tr>\n",
       "      <th>date</th>\n",
       "      <th></th>\n",
       "      <th></th>\n",
       "      <th></th>\n",
       "      <th></th>\n",
       "      <th></th>\n",
       "    </tr>\n",
       "  </thead>\n",
       "  <tbody>\n",
       "    <tr>\n",
       "      <th>2016-08-22</th>\n",
       "      <td>NaN</td>\n",
       "      <td>NaN</td>\n",
       "      <td>NaN</td>\n",
       "      <td>NaN</td>\n",
       "      <td>NaN</td>\n",
       "    </tr>\n",
       "    <tr>\n",
       "      <th>2016-08-23</th>\n",
       "      <td>NaN</td>\n",
       "      <td>NaN</td>\n",
       "      <td>NaN</td>\n",
       "      <td>NaN</td>\n",
       "      <td>NaN</td>\n",
       "    </tr>\n",
       "    <tr>\n",
       "      <th>2016-08-24</th>\n",
       "      <td>NaN</td>\n",
       "      <td>NaN</td>\n",
       "      <td>NaN</td>\n",
       "      <td>NaN</td>\n",
       "      <td>NaN</td>\n",
       "    </tr>\n",
       "    <tr>\n",
       "      <th>2016-08-25</th>\n",
       "      <td>NaN</td>\n",
       "      <td>NaN</td>\n",
       "      <td>NaN</td>\n",
       "      <td>NaN</td>\n",
       "      <td>NaN</td>\n",
       "    </tr>\n",
       "    <tr>\n",
       "      <th>2016-08-26</th>\n",
       "      <td>NaN</td>\n",
       "      <td>NaN</td>\n",
       "      <td>NaN</td>\n",
       "      <td>NaN</td>\n",
       "      <td>NaN</td>\n",
       "    </tr>\n",
       "    <tr>\n",
       "      <th>...</th>\n",
       "      <td>...</td>\n",
       "      <td>...</td>\n",
       "      <td>...</td>\n",
       "      <td>...</td>\n",
       "      <td>...</td>\n",
       "    </tr>\n",
       "    <tr>\n",
       "      <th>2021-08-16</th>\n",
       "      <td>0.258615</td>\n",
       "      <td>0.008723</td>\n",
       "      <td>0.078174</td>\n",
       "      <td>0.530608</td>\n",
       "      <td>0.12388</td>\n",
       "    </tr>\n",
       "    <tr>\n",
       "      <th>2021-08-17</th>\n",
       "      <td>0.262939</td>\n",
       "      <td>0.008623</td>\n",
       "      <td>0.074539</td>\n",
       "      <td>0.532704</td>\n",
       "      <td>0.121195</td>\n",
       "    </tr>\n",
       "    <tr>\n",
       "      <th>2021-08-18</th>\n",
       "      <td>0.242747</td>\n",
       "      <td>0.009426</td>\n",
       "      <td>0.072508</td>\n",
       "      <td>0.551329</td>\n",
       "      <td>0.12399</td>\n",
       "    </tr>\n",
       "    <tr>\n",
       "      <th>2021-08-19</th>\n",
       "      <td>0.260424</td>\n",
       "      <td>0.010058</td>\n",
       "      <td>0.075558</td>\n",
       "      <td>0.521035</td>\n",
       "      <td>0.132925</td>\n",
       "    </tr>\n",
       "    <tr>\n",
       "      <th>2021-08-20</th>\n",
       "      <td>0.287302</td>\n",
       "      <td>0.011186</td>\n",
       "      <td>0.084281</td>\n",
       "      <td>0.468978</td>\n",
       "      <td>0.148252</td>\n",
       "    </tr>\n",
       "  </tbody>\n",
       "</table>\n",
       "<p>1825 rows × 5 columns</p>\n",
       "</div>"
      ],
      "text/plain": [
       "                AAPL      MSTR      TSLA      MSFT      AMZN\n",
       "date                                                        \n",
       "2016-08-22       NaN       NaN       NaN       NaN       NaN\n",
       "2016-08-23       NaN       NaN       NaN       NaN       NaN\n",
       "2016-08-24       NaN       NaN       NaN       NaN       NaN\n",
       "2016-08-25       NaN       NaN       NaN       NaN       NaN\n",
       "2016-08-26       NaN       NaN       NaN       NaN       NaN\n",
       "...              ...       ...       ...       ...       ...\n",
       "2021-08-16  0.258615  0.008723  0.078174  0.530608   0.12388\n",
       "2021-08-17  0.262939  0.008623  0.074539  0.532704  0.121195\n",
       "2021-08-18  0.242747  0.009426  0.072508  0.551329   0.12399\n",
       "2021-08-19  0.260424  0.010058  0.075558  0.521035  0.132925\n",
       "2021-08-20  0.287302  0.011186  0.084281  0.468978  0.148252\n",
       "\n",
       "[1825 rows x 5 columns]"
      ]
     },
     "execution_count": 280,
     "metadata": {},
     "output_type": "execute_result"
    }
   ],
   "source": [
    "Backtester(strategy=strategy).fit(prices).weights_"
   ]
  },
  {
   "cell_type": "code",
   "execution_count": 281,
   "id": "37e75cb7-fd8a-4e1b-8762-d82ba8e4a5e5",
   "metadata": {},
   "outputs": [
    {
     "data": {
      "text/plain": [
       "[1000,\n",
       " 989.3863349723816,\n",
       " 989.3863349723816,\n",
       " 978.3335303115845,\n",
       " 967.7905400276184,\n",
       " 956.989510154724,\n",
       " 945.2444750785827,\n",
       " 933.2869598960875,\n",
       " 933.2869598960875,\n",
       " 920.1949499702453,\n",
       " 906.6213598823547,\n",
       " 906.6213598823547,\n",
       " 893.5665948295592,\n",
       " 880.6487697792052,\n",
       " 880.6487697792052,\n",
       " 866.3853842735289,\n",
       " 866.3853842735289,\n",
       " 866.3853842735289,\n",
       " 848.5969197654722,\n",
       " 830.4058602714537,\n",
       " 830.4058602714537,\n",
       " 811.3124700736997,\n",
       " 791.5357296943662,\n",
       " 770.9734393501279,\n",
       " 749.5204089546202,\n",
       " 749.5204089546202,\n",
       " 725.7764591026304,\n",
       " 705.5715488243101,\n",
       " 705.5715488243101,\n",
       " 705.5715488243101,\n",
       " 685.5090832710264,\n",
       " 665.2320784187315,\n",
       " 643.3801190757749,\n",
       " 620.5915988731382,\n",
       " 620.5915988731382,\n",
       " 597.5317732810972,\n",
       " 575.2643988990782,\n",
       " 575.2643988990782,\n",
       " 554.0329436302183,\n",
       " 531.8882741737364,\n",
       " 509.7558343696592,\n",
       " 486.71334970474226,\n",
       " 461.3386350440977,\n",
       " 461.3386350440977,\n",
       " 438.0512405586241,\n",
       " 410.1039250373839,\n",
       " 379.74839967727644,\n",
       " 344.29170434951766,\n",
       " 344.29170434951766,\n",
       " 299.4573032569884,\n",
       " 257.9910029792784,\n",
       " 257.9910029792784,\n",
       " 213.67980257034284,\n",
       " 166.42980134963972,\n",
       " 166.42980134963972,\n",
       " 116.32240243911725,\n",
       " 67.41580240249615,\n",
       " 67.41580240249615,\n",
       " 20.505903110503965,\n",
       " 192.0325254916998,\n",
       " nan,\n",
       " 163.24264738464575,\n",
       " 152.3244348932962,\n",
       " 197.59548586250708,\n",
       " 243.78915154854084,\n",
       " 212.64381359555898,\n",
       " nan,\n",
       " 287.97459419359427,\n",
       " 268.579252247772,\n",
       " nan,\n",
       " 289.77220894970714,\n",
       " 135.30781635851645,\n",
       " nan,\n",
       " 292.1461964674754,\n",
       " nan,\n",
       " nan,\n",
       " 337.9264552755464,\n",
       " 274.8576464822764,\n",
       " nan,\n",
       " 450.59199976897605,\n",
       " 350.6389268104344,\n",
       " 498.02730434478536,\n",
       " 410.38664511710243,\n",
       " nan,\n",
       " 255.07548857282907,\n",
       " 238.08327072210614,\n",
       " nan,\n",
       " nan,\n",
       " 322.9423032250235,\n",
       " 412.9955767342236,\n",
       " 538.8234253484637,\n",
       " 498.29179379726304,\n",
       " nan,\n",
       " 697.7824312211226,\n",
       " 555.5473667498712,\n",
       " nan,\n",
       " 607.6189877998719,\n",
       " 373.17618980118476,\n",
       " 359.61813646565014,\n",
       " 489.03449506325774,\n",
       " 883.0674767573798,\n",
       " nan,\n",
       " 446.87960449441533,\n",
       " 843.9213457074442,\n",
       " 577.6200971845584,\n",
       " 689.8506275283738,\n",
       " nan,\n",
       " 1026.1769301600978,\n",
       " 865.4298240580283,\n",
       " nan,\n",
       " 1252.075254826542,\n",
       " 1169.5993820716346,\n",
       " nan,\n",
       " 1203.4437878620793,\n",
       " 1121.8104744632763,\n",
       " nan,\n",
       " 581.4783118195398]"
      ]
     },
     "execution_count": 281,
     "metadata": {},
     "output_type": "execute_result"
    }
   ],
   "source": [
    "strategy.portfolio_values"
   ]
  },
  {
   "cell_type": "code",
   "execution_count": null,
   "id": "a7eb6c15-d4f8-4a14-a881-aa56f461b1fd",
   "metadata": {},
   "outputs": [],
   "source": [
    "R=prices.rolling(4)\n",
    "R."
   ]
  },
  {
   "cell_type": "code",
   "execution_count": null,
   "id": "ab70a024-245e-4107-8018-604680a14f6a",
   "metadata": {},
   "outputs": [],
   "source": [
    "X.rolling(window = 10).apply(rebalance,)"
   ]
  },
  {
   "cell_type": "code",
   "execution_count": null,
   "id": "e3c69592-1732-4462-a762-d4b975ed7516",
   "metadata": {},
   "outputs": [],
   "source": [
    "prices.index = pd.to_datetime(prices.index)"
   ]
  },
  {
   "cell_type": "code",
   "execution_count": null,
   "id": "ef405bd8-7557-4701-829e-5c9fdb1565d8",
   "metadata": {},
   "outputs": [],
   "source": [
    "import cvxpy as cp\n",
    "import numpy as np"
   ]
  },
  {
   "cell_type": "code",
   "execution_count": null,
   "id": "a63d1cdc-5252-4935-8b2d-e1eb43f58a5c",
   "metadata": {},
   "outputs": [],
   "source": [
    "model = MinimumVolatility()\n",
    "def rebalance(df_prices):\n",
    "    return model.fit(df_prices).weights_"
   ]
  },
  {
   "cell_type": "code",
   "execution_count": null,
   "id": "a6acb3fa-de76-465a-b0d2-9dc4387d4437",
   "metadata": {},
   "outputs": [],
   "source": [
    "prices.resample('Y').apply(rebalance)"
   ]
  }
 ],
 "metadata": {
  "kernelspec": {
   "display_name": "Python 3 (ipykernel)",
   "language": "python",
   "name": "python3"
  },
  "language_info": {
   "codemirror_mode": {
    "name": "ipython",
    "version": 3
   },
   "file_extension": ".py",
   "mimetype": "text/x-python",
   "name": "python",
   "nbconvert_exporter": "python",
   "pygments_lexer": "ipython3",
   "version": "3.10.4"
  }
 },
 "nbformat": 4,
 "nbformat_minor": 5
}
